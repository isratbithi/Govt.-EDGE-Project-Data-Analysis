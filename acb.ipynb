{
 "cells": [
  {
   "cell_type": "markdown",
   "metadata": {},
   "source": [
    "# set in python"
   ]
  },
  {
   "cell_type": "code",
   "execution_count": 3,
   "metadata": {},
   "outputs": [
    {
     "name": "stdout",
     "output_type": "stream",
     "text": [
      "{1, 2, 3, 4}\n"
     ]
    }
   ],
   "source": [
    "my_set={1,2,3,4}\n",
    "print(my_set)"
   ]
  },
  {
   "cell_type": "code",
   "execution_count": 4,
   "metadata": {},
   "outputs": [
    {
     "name": "stdout",
     "output_type": "stream",
     "text": [
      "{1, 2, 3, 4, 5}\n"
     ]
    }
   ],
   "source": [
    "my_set=set([1,2,3,4,5])#using set constructor\n",
    "print(my_set)"
   ]
  },
  {
   "cell_type": "code",
   "execution_count": 5,
   "metadata": {},
   "outputs": [
    {
     "name": "stdout",
     "output_type": "stream",
     "text": [
      "4\n"
     ]
    }
   ],
   "source": [
    "my_set={1,2,3,4,5}\n",
    "for item in my_set:\n",
    "    if item==4:\n",
    "        print(item)\n"
   ]
  },
  {
   "cell_type": "code",
   "execution_count": 6,
   "metadata": {},
   "outputs": [
    {
     "name": "stdout",
     "output_type": "stream",
     "text": [
      "{1, 2, 3, 4, 5, 6}\n",
      "{3, 4}\n",
      "{1, 2}\n",
      "{1, 2, 5, 6}\n"
     ]
    }
   ],
   "source": [
    "#set operation\n",
    "set1={1,2,3,4}\n",
    "set2={3,4,5,6}\n",
    "\n",
    "union=set1 | set2    #union\n",
    "print(union)\n",
    "\n",
    "intersection=set1 & set2\n",
    "print(intersection)\n",
    "\n",
    "difference=set1 - set2  #difference\n",
    "print(difference)\n",
    "\n",
    "symmetric=set1^set2  #symmetric difference\n",
    "print(symmetric)"
   ]
  },
  {
   "cell_type": "code",
   "execution_count": 7,
   "metadata": {},
   "outputs": [
    {
     "name": "stdout",
     "output_type": "stream",
     "text": [
      "{1, 2, 3, 4, 5, 6, 7, 8}\n",
      "{4, 5, 6, 7, 8}\n",
      "set()\n",
      "{6, 5, 4, 7, 8}\n"
     ]
    }
   ],
   "source": [
    "#update in methods\n",
    "my_set={1,2,3,4,5}\n",
    "my_set1={4,5,6,7,8}\n",
    "my_set.update(my_set1)\n",
    "print(my_set)\n",
    "\n",
    "\n",
    "#intersection_update()\n",
    "my_set.intersection_update(my_set1)\n",
    "print(my_set)\n",
    "\n",
    "#difference_update\n",
    "my_set.difference_update(my_set1)\n",
    "print(my_set)\n",
    "\n",
    "#symmetric \n",
    "my_set.symmetric_difference_update(my_set1)\n",
    "print(my_set)"
   ]
  },
  {
   "cell_type": "markdown",
   "metadata": {},
   "source": [
    "# new_set{expression for item in iterable if condition}"
   ]
  },
  {
   "cell_type": "code",
   "execution_count": 8,
   "metadata": {},
   "outputs": [
    {
     "name": "stdout",
     "output_type": "stream",
     "text": [
      "{'e', 'i', 'a', 'o'}\n"
     ]
    }
   ],
   "source": [
    "#set comprehension\n",
    "words=[\"apple\",\"banana\",\"orange\",\"grape\",\"kiwi\"]\n",
    "vowels={char for word in words for char in word if char in \"aeiou\"}\n",
    "print(vowels)"
   ]
  },
  {
   "cell_type": "code",
   "execution_count": 9,
   "metadata": {},
   "outputs": [
    {
     "name": "stdout",
     "output_type": "stream",
     "text": [
      "frozenset({1, 2, 3, 4, 5})\n"
     ]
    }
   ],
   "source": [
    "#frozen set  kono method apply kora jabe na\n",
    "set1=frozenset([1,2,3,4,5])\n",
    "print(set1)"
   ]
  },
  {
   "cell_type": "markdown",
   "metadata": {},
   "source": [
    "# Dictionary"
   ]
  },
  {
   "cell_type": "code",
   "execution_count": 18,
   "metadata": {},
   "outputs": [
    {
     "name": "stdout",
     "output_type": "stream",
     "text": [
      "{'name': 'bithi', 'age': 22, 'city': 'Kushtia'}\n",
      "dict_keys(['name', 'age', 'city'])\n",
      "3\n",
      "None\n",
      "{'name': 'bithi', 'age': 22, 'city': 'Kushtia'}\n"
     ]
    }
   ],
   "source": [
    "#using curly braces\n",
    "my_dict={'name':'bithi','age':22,'city':'Kushtia'}\n",
    "print(my_dict)\n",
    "print(my_dict.keys())\n",
    "print(len(my_dict))\n",
    "print(my_dict.clear())\n",
    "#using dict()\n",
    "my_dict=dict(name='bithi',age=22,city='Kushtia')\n",
    "print(my_dict)"
   ]
  },
  {
   "cell_type": "markdown",
   "metadata": {},
   "source": [
    "# Accessing,Adding and Modifying ,Removing Elements"
   ]
  },
  {
   "cell_type": "code",
   "execution_count": 15,
   "metadata": {},
   "outputs": [
    {
     "name": "stdout",
     "output_type": "stream",
     "text": [
      "bithi\n",
      "22\n",
      "{'name': 'bithi', 'age': 23, 'city': 'USA'}\n",
      "{'name': 'bithi', 'city': 'USA'}\n",
      "{'city': 'USA'}\n",
      "{}\n"
     ]
    }
   ],
   "source": [
    "my_dict={'name':'bithi','age':22,'city':'Kushtia'}\n",
    "print(my_dict['name'])\n",
    "print(my_dict.get('age'))\n",
    "\n",
    "#Addnew key in value\n",
    "my_dict['city']='USA'\n",
    "my_dict['age']=23   #modifying existing new value\n",
    "print(my_dict)\n",
    "\n",
    "#remove key value pair by key\n",
    "del my_dict['age']\n",
    "print(my_dict)\n",
    "alue=my_dict.pop('name')\n",
    "print(my_dict)\n",
    "key,value=my_dict.popitem() #remove and return last key value pair\n",
    "print(my_dict) \n",
    "\n"
   ]
  },
  {
   "cell_type": "code",
   "execution_count": 16,
   "metadata": {},
   "outputs": [
    {
     "name": "stdout",
     "output_type": "stream",
     "text": [
      "{'name': 'bithi', 'age': '22', 'city': 'kushtia'}\n"
     ]
    }
   ],
   "source": [
    "my_dict={}\n",
    "for i in range(3):\n",
    "    key=input(\"Enter key\")\n",
    "    value=input(\"Enter the value\")\n",
    "    my_dict[key]=value\n",
    "print(my_dict)"
   ]
  },
  {
   "cell_type": "markdown",
   "metadata": {},
   "source": [
    "# Dictionary comprehension"
   ]
  },
  {
   "cell_type": "code",
   "execution_count": 19,
   "metadata": {},
   "outputs": [
    {
     "name": "stdout",
     "output_type": "stream",
     "text": [
      "{'apple': 5, 'banana': 6, 'cherry': 6}\n"
     ]
    }
   ],
   "source": [
    "words=[\"apple\",\"banana\",\"cherry\"]\n",
    "word_lengths={word:len(word) for word in words}\n",
    "print(word_lengths)"
   ]
  },
  {
   "cell_type": "code",
   "execution_count": 20,
   "metadata": {},
   "outputs": [
    {
     "name": "stdout",
     "output_type": "stream",
     "text": [
      "{'name': 'bithi', 'age': 22, 'city': 'Kushtia'}\n"
     ]
    }
   ],
   "source": [
    "#create a new dictionary by swapping keys and values of an existing\n",
    "\n",
    "my_dict={'name':'bithi','age':22,'city':'Kushtia'}\n",
    "my_dict1={values:key for key,values in my_dict.items()}\n",
    "print(my_dict)"
   ]
  },
  {
   "cell_type": "markdown",
   "metadata": {},
   "source": [
    "# function"
   ]
  },
  {
   "cell_type": "code",
   "execution_count": 4,
   "metadata": {},
   "outputs": [
    {
     "name": "stdout",
     "output_type": "stream",
     "text": [
      "Hello World\n",
      "Hello  Bithi\n",
      "30\n"
     ]
    }
   ],
   "source": [
    "#user defined functio \n",
    "def great():\n",
    "    print(\"Hello World\")\n",
    "great()\n",
    "\n",
    "#with parameter\n",
    "def great(name):\n",
    "    print(\"Hello \",name)\n",
    "great(\"Bithi\")\n",
    "\n",
    "#Function can return values\n",
    "def sum(a,b):\n",
    "    return a+b\n",
    "result=sum(10,20)\n",
    "print(result)"
   ]
  },
  {
   "cell_type": "markdown",
   "metadata": {},
   "source": [
    "# positional parameters"
   ]
  },
  {
   "cell_type": "code",
   "execution_count": 5,
   "metadata": {},
   "outputs": [
    {
     "name": "stdout",
     "output_type": "stream",
     "text": [
      "hello, Bithi! you are 22 years old.\n"
     ]
    }
   ],
   "source": [
    "def great(name,age):\n",
    "    print(f\"hello, {name}! you are {age} years old.\")\n",
    "great(\"Bithi\",22)"
   ]
  },
  {
   "cell_type": "markdown",
   "metadata": {},
   "source": [
    "# keyword parameters"
   ]
  },
  {
   "cell_type": "code",
   "execution_count": 6,
   "metadata": {},
   "outputs": [
    {
     "name": "stdout",
     "output_type": "stream",
     "text": [
      "hello, Bithi! you are 22 years old.\n"
     ]
    }
   ],
   "source": [
    "def great(name,age):\n",
    "    print(f\"hello, {name}! you are {age} years old.\")\n",
    "great(age=22,name=\"Bithi\")"
   ]
  },
  {
   "cell_type": "markdown",
   "metadata": {},
   "source": [
    "# Default parameter"
   ]
  },
  {
   "cell_type": "code",
   "execution_count": 10,
   "metadata": {},
   "outputs": [
    {
     "name": "stdout",
     "output_type": "stream",
     "text": [
      "hello, Bithi!\n",
      "hello, Mim!\n"
     ]
    }
   ],
   "source": [
    "def great(name=\"Bithi\"):\n",
    "    print(f\"hello, {name}!\")\n",
    "great()\n",
    "great(\"Mim\")"
   ]
  },
  {
   "cell_type": "markdown",
   "metadata": {},
   "source": [
    "# Variable Length parameters"
   ]
  },
  {
   "cell_type": "code",
   "execution_count": 16,
   "metadata": {},
   "outputs": [
    {
     "name": "stdout",
     "output_type": "stream",
     "text": [
      "Hello, B ! Hello, c ! Hello, d ! <class 'tuple'>\n"
     ]
    }
   ],
   "source": [
    "def greet(*names):\n",
    "    for name in names:\n",
    "        print(f\"Hello, {name} !\",end=' ')\n",
    "    print(type(names))\n",
    "        \n",
    "greet(\"B\",\"c\",\"d\")\n",
    "\n"
   ]
  },
  {
   "cell_type": "markdown",
   "metadata": {},
   "source": [
    "# keyword Variable_length Paramters(**kwargs)"
   ]
  },
  {
   "cell_type": "code",
   "execution_count": 21,
   "metadata": {},
   "outputs": [
    {
     "name": "stdout",
     "output_type": "stream",
     "text": [
      "name:Bithi age:22 <class 'dict'>\n"
     ]
    }
   ],
   "source": [
    "def greet(**kwargs):\n",
    "    for key,value in kwargs.items():\n",
    "        print(f\"{key}:{value}\",end=' ')\n",
    "    print(type(kwargs))\n",
    "        \n",
    "greet(name=\"Bithi\",age=22)"
   ]
  },
  {
   "cell_type": "markdown",
   "metadata": {},
   "source": [
    "#Mixed Parametrs"
   ]
  },
  {
   "cell_type": "code",
   "execution_count": 23,
   "metadata": {},
   "outputs": [
    {
     "name": "stdout",
     "output_type": "stream",
     "text": [
      "Hello, Alice  You are 23 years old\n",
      "Hello, Bob Hello, Charlie city:New Yourk country:USA "
     ]
    }
   ],
   "source": [
    "def greet(name,*names,age=30,**kwargs):\n",
    "    print(f\"Hello, {name}  You are {age} years old\")\n",
    "    for n in names:\n",
    "        print(f\"Hello, {n}\", end=' ')\n",
    "    for key,value in kwargs.items():\n",
    "        print(f\"{key}:{value}\",end=' ')\n",
    "greet(\"Alice\",\"Bob\",\"Charlie\",age=23,city=\"New Yourk\",country=\"USA\")"
   ]
  },
  {
   "cell_type": "markdown",
   "metadata": {},
   "source": [
    "# Example"
   ]
  },
  {
   "cell_type": "code",
   "execution_count": 26,
   "metadata": {},
   "outputs": [
    {
     "name": "stdout",
     "output_type": "stream",
     "text": [
      "Factorial of 5 is 120\n"
     ]
    }
   ],
   "source": [
    "def factorial(n):\n",
    "    if n==0:\n",
    "        return 1\n",
    "    else:\n",
    "        return n*factorial(n-1)\n",
    "#Test the function\n",
    "num=5\n",
    "print(\"Factorial of\", num, \"is\",factorial(num))"
   ]
  },
  {
   "cell_type": "markdown",
   "metadata": {},
   "source": [
    "# lamda function"
   ]
  },
  {
   "cell_type": "code",
   "execution_count": 28,
   "metadata": {},
   "outputs": [
    {
     "name": "stdout",
     "output_type": "stream",
     "text": [
      "8\n"
     ]
    }
   ],
   "source": [
    "fibonacci= lambda n: n if n<=1 else fibonacci(n-1)+fibonacci(n-2)\n",
    "print(fibonacci(6))"
   ]
  },
  {
   "cell_type": "markdown",
   "metadata": {},
   "source": [
    "# raise statement"
   ]
  },
  {
   "cell_type": "code",
   "execution_count": 1,
   "metadata": {},
   "outputs": [
    {
     "name": "stdout",
     "output_type": "stream",
     "text": [
      "Invalid Roll\n",
      "\n",
      "Successfully Completed\n"
     ]
    }
   ],
   "source": [
    "try:\n",
    "     roll =int(input(\"Enter your roll \"))\n",
    "     if roll<=0:\n",
    "          raise ValueError\n",
    "     print(\"Your roll is \", roll)\n",
    "except ValueError as e:\n",
    "     print(\"Invalid Roll\")\n",
    "     print(e)\n",
    "print(\"Successfully Completed\")\n"
   ]
  },
  {
   "cell_type": "markdown",
   "metadata": {},
   "source": [
    "# string vas raw string"
   ]
  },
  {
   "cell_type": "code",
   "execution_count": 2,
   "metadata": {},
   "outputs": [
    {
     "name": "stdout",
     "output_type": "stream",
     "text": [
      "C:\\path\to\file.txt\n",
      "C:\\path\\to\\file.txt\n"
     ]
    },
    {
     "name": "stderr",
     "output_type": "stream",
     "text": [
      "<>:2: SyntaxWarning: invalid escape sequence '\\p'\n",
      "<>:2: SyntaxWarning: invalid escape sequence '\\p'\n",
      "C:\\Users\\bithi\\AppData\\Local\\Temp\\ipykernel_12016\\407048426.py:2: SyntaxWarning: invalid escape sequence '\\p'\n",
      "  string=\"C:\\path\\to\\file.txt\"\n"
     ]
    }
   ],
   "source": [
    "#string vs row string\n",
    "string=\"C:\\path\\to\\file.txt\"\n",
    "print(string)\n",
    "\n",
    "raw_string=r\"C:\\path\\to\\file.txt\"\n",
    "print(raw_string)"
   ]
  }
 ],
 "metadata": {
  "kernelspec": {
   "display_name": "Python 3",
   "language": "python",
   "name": "python3"
  },
  "language_info": {
   "codemirror_mode": {
    "name": "ipython",
    "version": 3
   },
   "file_extension": ".py",
   "mimetype": "text/x-python",
   "name": "python",
   "nbconvert_exporter": "python",
   "pygments_lexer": "ipython3",
   "version": "3.12.3"
  }
 },
 "nbformat": 4,
 "nbformat_minor": 2
}
